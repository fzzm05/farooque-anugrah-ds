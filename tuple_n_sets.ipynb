{
 "cells": [
  {
   "attachments": {},
   "cell_type": "markdown",
   "metadata": {},
   "source": [
    "- ###TUPLE\n",
    "    - python default sequential daTA STRucture\n",
    "    - indexed, ordered, heterogenous\n",
    "    - ` immutable `\n",
    "    - represented by ` () `\n",
    "    - ` tuple ` is faster than ` list `\n",
    "    - ` tuple() ` convert any sequence to tuple\n",
    "\n",
    "- SET\n",
    "    - unordered, unidexed, mutable\n",
    "    - unique elements only\n",
    "    - can store only immutable elements\n",
    "    - represented by {}\n",
    "    - set() convert any sequence to set"
   ]
  },
  {
   "attachments": {},
   "cell_type": "markdown",
   "metadata": {},
   "source": [
    "- Tuple"
   ]
  },
  {
   "cell_type": "code",
   "execution_count": 1,
   "metadata": {},
   "outputs": [
    {
     "name": "stdout",
     "output_type": "stream",
     "text": [
      "(1, 2, 3)\n",
      "<class 'tuple'>\n"
     ]
    }
   ],
   "source": [
    "x = (1,2,3)\n",
    "print(x)\n",
    "print(type(x))\n"
   ]
  },
  {
   "cell_type": "code",
   "execution_count": 11,
   "metadata": {},
   "outputs": [],
   "source": [
    "a = 12, 13, 50 "
   ]
  },
  {
   "cell_type": "code",
   "execution_count": 9,
   "metadata": {},
   "outputs": [
    {
     "name": "stdout",
     "output_type": "stream",
     "text": [
      "()\n",
      "<class 'tuple'>\n"
     ]
    }
   ],
   "source": [
    "#single element tuple\n",
    "b = (13, )\n",
    "print(b)\n",
    "print(type(b))"
   ]
  },
  {
   "cell_type": "code",
   "execution_count": 14,
   "metadata": {},
   "outputs": [
    {
     "name": "stdout",
     "output_type": "stream",
     "text": [
      "12 13 50\n"
     ]
    }
   ],
   "source": [
    "#tuple unpacking\n",
    "x1, x2, x3 = a # a has 3 elements\n",
    "print (x1,x2,x3)"
   ]
  },
  {
   "cell_type": "code",
   "execution_count": 15,
   "metadata": {},
   "outputs": [
    {
     "name": "stdout",
     "output_type": "stream",
     "text": [
      "1 3 [5, 7, 9, 11, 13, 15, 17]\n"
     ]
    }
   ],
   "source": [
    "a = (1,3,5,7,9,11,13,15,17)\n",
    "a1, a2, *a3 = a #a3 will get the remaining elements as a list\n",
    "print (a1, a2, a3)"
   ]
  },
  {
   "cell_type": "code",
   "execution_count": 18,
   "metadata": {},
   "outputs": [
    {
     "data": {
      "text/plain": [
       "(9, 11, 13, 15, 17)"
      ]
     },
     "execution_count": 18,
     "metadata": {},
     "output_type": "execute_result"
    }
   ],
   "source": [
    "a[-5:]"
   ]
  },
  {
   "cell_type": "code",
   "execution_count": 19,
   "metadata": {},
   "outputs": [
    {
     "name": "stdout",
     "output_type": "stream",
     "text": [
      "1\n",
      "3\n",
      "5\n",
      "7\n",
      "9\n",
      "11\n",
      "13\n",
      "15\n",
      "17\n"
     ]
    }
   ],
   "source": [
    "for i in a:\n",
    "    print(i)"
   ]
  },
  {
   "cell_type": "code",
   "execution_count": 20,
   "metadata": {},
   "outputs": [
    {
     "name": "stdout",
     "output_type": "stream",
     "text": [
      "5\n",
      "5\n",
      "0\n",
      "2\n",
      "5\n"
     ]
    }
   ],
   "source": [
    "x = (1,2,3,1,2,3,1,2,3,1,2,3,1,2,3)\n",
    "print(x.count(1))\n",
    "print(x.count(2))\n",
    "print(x.count(5))\n",
    "print(x.index(3))\n",
    "print(x.index(3,5)) #3 is the value to search and 5 is the starting index\n"
   ]
  },
  {
   "cell_type": "code",
   "execution_count": 21,
   "metadata": {},
   "outputs": [
    {
     "name": "stdout",
     "output_type": "stream",
     "text": [
      "(1, 2, 3)\n",
      "[1, 2, 3]\n"
     ]
    }
   ],
   "source": [
    "a = [1,2,3]\n",
    "at= tuple(a) #tuple to tuple\n",
    "al= list(at) #tuple to list\n",
    "print(at)\n",
    "print(al)"
   ]
  },
  {
   "attachments": {},
   "cell_type": "markdown",
   "metadata": {},
   "source": [
    "set\n"
   ]
  },
  {
   "cell_type": "code",
   "execution_count": 22,
   "metadata": {},
   "outputs": [
    {
     "name": "stdout",
     "output_type": "stream",
     "text": [
      "{1, 2, 3}\n",
      "<class 'set'>\n"
     ]
    }
   ],
   "source": [
    "s = {1,2,3,1,2,3,1,2,3}\n",
    "print(s)\n",
    "print(type(s))"
   ]
  },
  {
   "cell_type": "code",
   "execution_count": 23,
   "metadata": {},
   "outputs": [
    {
     "name": "stdout",
     "output_type": "stream",
     "text": [
      "set()\n",
      "<class 'set'>\n"
     ]
    }
   ],
   "source": [
    "s1= set() #empty set\n",
    "print(s1)\n",
    "print(type(s1))"
   ]
  },
  {
   "cell_type": "code",
   "execution_count": 25,
   "metadata": {},
   "outputs": [
    {
     "name": "stdout",
     "output_type": "stream",
     "text": [
      "{'hello', 3, 4, 'all'}\n"
     ]
    }
   ],
   "source": [
    "s1.add(3)\n",
    "s1.add(4)\n",
    "s1.add('hello')\n",
    "s1.add('all')\n",
    "s1.add(3)\n",
    "print(s1)"
   ]
  },
  {
   "cell_type": "code",
   "execution_count": 26,
   "metadata": {},
   "outputs": [],
   "source": [
    "s1.discard(3) #remove 3 from set s1 (remmove() can also be used)"
   ]
  },
  {
   "cell_type": "code",
   "execution_count": 27,
   "metadata": {},
   "outputs": [
    {
     "name": "stdout",
     "output_type": "stream",
     "text": [
      "hello\n",
      "4\n",
      "all\n"
     ]
    }
   ],
   "source": [
    "for i in s1:\n",
    "    print(i)"
   ]
  },
  {
   "cell_type": "code",
   "execution_count": 28,
   "metadata": {},
   "outputs": [],
   "source": [
    "#set operations\n",
    "group1 = {'apple', 'banana', 'orange', 'grapes', 'mango', 'pineapple', 'watermelon'}\n",
    "group2 = {'apple', 'grapes', 'mango', 'pineapple', 'watermelon', 'kiwi', 'papaya', 'cherry'}"
   ]
  },
  {
   "cell_type": "code",
   "execution_count": 32,
   "metadata": {},
   "outputs": [
    {
     "name": "stdout",
     "output_type": "stream",
     "text": [
      "{'kiwi', 'watermelon', 'pineapple', 'orange', 'grapes', 'cherry', 'papaya', 'banana', 'mango', 'apple'}\n",
      "{'kiwi', 'watermelon', 'pineapple', 'orange', 'grapes', 'cherry', 'papaya', 'banana', 'mango', 'apple'}\n"
     ]
    }
   ],
   "source": [
    "#union\n",
    "print(group1 | group2)\n",
    "print(group1.union(group2))"
   ]
  },
  {
   "cell_type": "code",
   "execution_count": 29,
   "metadata": {},
   "outputs": [
    {
     "name": "stdout",
     "output_type": "stream",
     "text": [
      "{'watermelon', 'pineapple', 'grapes', 'mango', 'apple'}\n",
      "{'watermelon', 'pineapple', 'grapes', 'mango', 'apple'}\n"
     ]
    }
   ],
   "source": [
    "#intersection\n",
    "print(group1 & group2) #common elements from both sides\n",
    "print(group1.intersection(group2))"
   ]
  },
  {
   "cell_type": "code",
   "execution_count": 30,
   "metadata": {},
   "outputs": [
    {
     "name": "stdout",
     "output_type": "stream",
     "text": [
      "{'banana', 'orange'}\n",
      "{'kiwi', 'papaya', 'cherry'}\n",
      "{'kiwi', 'papaya', 'cherry'}\n"
     ]
    }
   ],
   "source": [
    "#difference\n",
    "print(group1 - group2)\n",
    "print(group2 - group1)\n",
    "print(group2.difference(group1))"
   ]
  },
  {
   "cell_type": "code",
   "execution_count": 33,
   "metadata": {},
   "outputs": [
    {
     "name": "stdout",
     "output_type": "stream",
     "text": [
      "{'kiwi', 'orange', 'cherry', 'papaya', 'banana'}\n",
      "{'kiwi', 'orange', 'cherry', 'papaya', 'banana'}\n"
     ]
    }
   ],
   "source": [
    "#symmetric difference\n",
    "print(group1 ^ group2)\n",
    "print(group1.symmetric_difference(group2))"
   ]
  },
  {
   "attachments": {},
   "cell_type": "markdown",
   "metadata": {},
   "source": [
    "#task\n",
    "- create a list called reports that will hold report of 7 students\n",
    "- each student will have a name and marks in 3 subjects\n",
    "- use for loop to display the report of each student"
   ]
  },
  {
   "cell_type": "code",
   "execution_count": 39,
   "metadata": {},
   "outputs": [
    {
     "name": "stdout",
     "output_type": "stream",
     "text": [
      "['sakshi', 23, 23, 34]\n",
      "['nob', 63, 73, 64]\n",
      "['Zaid', 28, 24, 46]\n",
      "['mihir', 23, 45, 33]\n",
      "['manav', 21, 24, 34]\n",
      "['sumitra', 32, 56, 24]\n",
      "['sumit', 43, 54, 45]\n"
     ]
    }
   ],
   "source": [
    "report = [['sakshi', 23, 23, 34], \n",
    "          ['nob', 63, 73, 64], \n",
    "          ['Zaid', 28, 24, 46], \n",
    "          ['mihir', 23, 45, 33], \n",
    "          ['manav', 21, 24, 34], \n",
    "          ['sumitra', 32, 56, 24], \n",
    "          ['sumit', 43, 54, 45]]\n",
    "\n",
    "for i in report:\n",
    "    print(i)   \n"
   ]
  },
  {
   "cell_type": "code",
   "execution_count": 47,
   "metadata": {},
   "outputs": [],
   "source": [
    "reports = [\n",
    "        ['Rohan', [\n",
    "            ['Maths', 90],\n",
    "            ['Science', 95],\n",
    "            ['English', 85],\n",
    "        ]]\n",
    "          ]"
   ]
  },
  {
   "cell_type": "code",
   "execution_count": 48,
   "metadata": {},
   "outputs": [
    {
     "name": "stdout",
     "output_type": "stream",
     "text": [
      "Rohan\n",
      "Maths 90\n",
      "Science 95\n",
      "English 85\n"
     ]
    }
   ],
   "source": [
    "for students in reports:\n",
    "    for detail in students:\n",
    "        if isinstance(detail, str):\n",
    "            print(detail)\n",
    "        if isinstance(detail, list):\n",
    "            for subject in detail:\n",
    "                print(subject[0], subject[1])"
   ]
  },
  {
   "cell_type": "code",
   "execution_count": null,
   "metadata": {},
   "outputs": [],
   "source": [
    " "
   ]
  }
 ],
 "metadata": {
  "kernelspec": {
   "display_name": "base",
   "language": "python",
   "name": "python3"
  },
  "language_info": {
   "codemirror_mode": {
    "name": "ipython",
    "version": 3
   },
   "file_extension": ".py",
   "mimetype": "text/x-python",
   "name": "python",
   "nbconvert_exporter": "python",
   "pygments_lexer": "ipython3",
   "version": "3.10.8"
  },
  "orig_nbformat": 4
 },
 "nbformat": 4,
 "nbformat_minor": 2
}
