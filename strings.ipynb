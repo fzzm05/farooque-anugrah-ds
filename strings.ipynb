{
 "cells": [
  {
   "cell_type": "code",
   "execution_count": 13,
   "metadata": {},
   "outputs": [],
   "source": [
    "a = 'this is string' #single quotes\n",
    "b = \"this is another string\" #double quotes\n",
    "c = '''this is a \n",
    "string''' #triple quotes\n",
    "d= b'this is a byte string' #byte string\n",
    "e= u'this is a \\nunicode string' #unnicode string\n",
    "f= r'this is a \\nraw string' #raw string"
   ]
  },
  {
   "cell_type": "code",
   "execution_count": 14,
   "metadata": {},
   "outputs": [
    {
     "name": "stdout",
     "output_type": "stream",
     "text": [
      "this is a \n",
      "unicode string\n",
      "this is a \\nraw string\n",
      "this is another string\n"
     ]
    }
   ],
   "source": [
    "print (e)\n",
    "print(f)\n",
    "print(b)"
   ]
  },
  {
   "cell_type": "code",
   "execution_count": 10,
   "metadata": {},
   "outputs": [
    {
     "name": "stdout",
     "output_type": "stream",
     "text": [
      "C:\\Users\\window-10\\Documents\\farooque_anugrah_ds\\loops.ipynb\n"
     ]
    }
   ],
   "source": [
    "path = r'C:\\Users\\window-10\\Documents\\farooque_anugrah_ds\\loops.ipynb'\n",
    "print (path)"
   ]
  },
  {
   "cell_type": "code",
   "execution_count": 11,
   "metadata": {},
   "outputs": [
    {
     "name": "stdout",
     "output_type": "stream",
     "text": [
      "10\n"
     ]
    }
   ],
   "source": [
    "x =10\n",
    "x = str(x) #converted to string\n",
    "print (x)"
   ]
  },
  {
   "cell_type": "code",
   "execution_count": 1,
   "metadata": {},
   "outputs": [
    {
     "name": "stdout",
     "output_type": "stream",
     "text": [
      "str1 digipodium\n"
     ]
    }
   ],
   "source": [
    "str = 'digipodium'\n",
    "print('str1', str)"
   ]
  },
  {
   "cell_type": "code",
   "execution_count": 2,
   "metadata": {},
   "outputs": [
    {
     "name": "stdout",
     "output_type": "stream",
     "text": [
      "str1 i\n"
     ]
    }
   ],
   "source": [
    "print ('str1', str[1])"
   ]
  },
  {
   "cell_type": "code",
   "execution_count": 3,
   "metadata": {},
   "outputs": [
    {
     "name": "stdout",
     "output_type": "stream",
     "text": [
      "str[-1] m\n"
     ]
    }
   ],
   "source": [
    "print('str[-1]', str[-1])"
   ]
  },
  {
   "cell_type": "code",
   "execution_count": 13,
   "metadata": {},
   "outputs": [
    {
     "ename": "TypeError",
     "evalue": "'str' object is not callable",
     "output_type": "error",
     "traceback": [
      "\u001b[1;31m---------------------------------------------------------------------------\u001b[0m",
      "\u001b[1;31mTypeError\u001b[0m                                 Traceback (most recent call last)",
      "Cell \u001b[1;32mIn[13], line 2\u001b[0m\n\u001b[0;32m      1\u001b[0m p\u001b[39m=\u001b[39m \u001b[39m28973\u001b[39m\n\u001b[1;32m----> 2\u001b[0m p\u001b[39m=\u001b[39m \u001b[39mstr\u001b[39;49m(p)\n\u001b[0;32m      3\u001b[0m \u001b[39mprint\u001b[39m(p)\n",
      "\u001b[1;31mTypeError\u001b[0m: 'str' object is not callable"
     ]
    }
   ],
   "source": [
    "p= 28973\n",
    "p= str(p)\n",
    "print(p)"
   ]
  },
  {
   "cell_type": "code",
   "execution_count": 14,
   "metadata": {},
   "outputs": [
    {
     "name": "stdout",
     "output_type": "stream",
     "text": [
      "pod\n"
     ]
    }
   ],
   "source": [
    "s = 'digipodium'\n",
    "slice1=s[4:7]\n",
    "print(slice1) "
   ]
  },
  {
   "cell_type": "code",
   "execution_count": 27,
   "metadata": {},
   "outputs": [
    {
     "name": "stdout",
     "output_type": "stream",
     "text": [
      "Chauhan\n"
     ]
    }
   ],
   "source": [
    "name= 'Vijay Deenanath Chauhan'\n",
    "slice2=name[-7:]\n",
    "print(slice2)"
   ]
  },
  {
   "cell_type": "code",
   "execution_count": 28,
   "metadata": {},
   "outputs": [
    {
     "data": {
      "text/plain": [
       "23"
      ]
     },
     "execution_count": 28,
     "metadata": {},
     "output_type": "execute_result"
    }
   ],
   "source": [
    "len(name) #length of string"
   ]
  },
  {
   "cell_type": "code",
   "execution_count": 31,
   "metadata": {},
   "outputs": [
    {
     "data": {
      "text/plain": [
       "'Chauhan'"
      ]
     },
     "execution_count": 31,
     "metadata": {},
     "output_type": "execute_result"
    }
   ],
   "source": [
    "name[-7:len(name)] #last 7 characters"
   ]
  },
  {
   "cell_type": "code",
   "execution_count": 39,
   "metadata": {},
   "outputs": [
    {
     "name": "stdout",
     "output_type": "stream",
     "text": [
      "Deenanath\n"
     ]
    }
   ],
   "source": [
    "slice3=name[6:15]\n",
    "print(slice3)"
   ]
  },
  {
   "cell_type": "code",
   "execution_count": 40,
   "metadata": {},
   "outputs": [
    {
     "data": {
      "text/plain": [
       "'VjyDeaahCahn'"
      ]
     },
     "execution_count": 40,
     "metadata": {},
     "output_type": "execute_result"
    }
   ],
   "source": [
    "name[::2]"
   ]
  },
  {
   "cell_type": "code",
   "execution_count": 41,
   "metadata": {},
   "outputs": [
    {
     "data": {
      "text/plain": [
       "'nahuahC htananeeD yajiV'"
      ]
     },
     "execution_count": 41,
     "metadata": {},
     "output_type": "execute_result"
    }
   ],
   "source": [
    "name[::-1]"
   ]
  },
  {
   "cell_type": "code",
   "execution_count": 42,
   "metadata": {},
   "outputs": [
    {
     "data": {
      "text/plain": [
       "<function str.capitalize()>"
      ]
     },
     "execution_count": 42,
     "metadata": {},
     "output_type": "execute_result"
    }
   ],
   "source": [
    "name."
   ]
  },
  {
   "attachments": {},
   "cell_type": "markdown",
   "metadata": {},
   "source": [
    "- String methods\n",
    "\n",
    "    - Validation methods\n",
    "        - isalpha\n",
    "        - isnumeric\n",
    "        - isalnum\n",
    "        - isspace\n",
    "        - isupper\n",
    "        - islower\n",
    "        - istitle\n",
    "        - startswith\n",
    "        - endswith\n",
    "    - Formatting methods\n",
    "        - upper\n",
    "        - lower\n",
    "        - title\n",
    "        - swapcase\n",
    "        - capitalize\n",
    "        - casefold\n",
    "    - Utility methods\n",
    "        - count\n",
    "        - find\n",
    "        - replace\n",
    "        - split\n",
    "        - join\n",
    "        - strip"
   ]
  },
  {
   "cell_type": "code",
   "execution_count": 47,
   "metadata": {},
   "outputs": [
    {
     "name": "stdout",
     "output_type": "stream",
     "text": [
      "Invalid input\n"
     ]
    }
   ],
   "source": [
    "x = input('Enter a number: ')\n",
    "if x.isnumeric():\n",
    "    x=int(x)\n",
    "    print(x)\n",
    "else:\n",
    "    print('Invalid input')"
   ]
  },
  {
   "cell_type": "code",
   "execution_count": 49,
   "metadata": {},
   "outputs": [
    {
     "name": "stdout",
     "output_type": "stream",
     "text": [
      "hello anugrah\n"
     ]
    }
   ],
   "source": [
    "unamme = input('Enter your name')\n",
    "if unamme.isalpha():\n",
    "    print('hello',unamme)\n",
    "else:\n",
    "    print('invalid input')    "
   ]
  },
  {
   "cell_type": "code",
   "execution_count": 52,
   "metadata": {},
   "outputs": [
    {
     "name": "stdout",
     "output_type": "stream",
     "text": [
      "hello sjs\n"
     ]
    }
   ],
   "source": [
    "unammme = input('Enter your name')\n",
    "if unammme.isalnum():\n",
    "    print('hello',unammme)\n",
    "else:\n",
    "    print('invalid input')    "
   ]
  },
  {
   "cell_type": "code",
   "execution_count": 56,
   "metadata": {},
   "outputs": [
    {
     "name": "stdout",
     "output_type": "stream",
     "text": [
      "hello     \n"
     ]
    }
   ],
   "source": [
    "unammme = input('Enter your name')\n",
    "if not unammme.isalnum():\n",
    "    print('hello',unammme)\n",
    "else:\n",
    "    print('invalid input')    "
   ]
  },
  {
   "cell_type": "code",
   "execution_count": 58,
   "metadata": {},
   "outputs": [
    {
     "name": "stdout",
     "output_type": "stream",
     "text": [
      "WelcomeMr. Anand\n",
      "WelcomeMr. Vijay\n",
      "WelcomeMrs. Ravi\n",
      "NotinvitedEr. Rajesh\n"
     ]
    }
   ],
   "source": [
    "names = ['Mr. Anand','Mr. Vijay','Mrs. Ravi','Er. Rajesh']\n",
    "for name in names:\n",
    "    if name.startswith('Mr.')or name.startswith('Mrs.'):\n",
    "        print(f'Welcome{name}')\n",
    "    else:\n",
    "        print(f'Notinvited{name}')    "
   ]
  },
  {
   "cell_type": "code",
   "execution_count": 59,
   "metadata": {},
   "outputs": [
    {
     "name": "stdout",
     "output_type": "stream",
     "text": [
      "abc.txt    text file\n",
      "xyz.doc    unknown file type\n",
      "pqr.py     python file\n",
      "mno.py     python file\n",
      "def.txt    text file\n"
     ]
    }
   ],
   "source": [
    "files = ['abc.txt', 'xyz.doc', 'pqr.py', 'mno.py', 'def.txt']\n",
    "for item in files:\n",
    "    if item.endswith('.txt'):\n",
    "        print(f'{item:10} text file')\n",
    "    elif item.endswith('.py'):\n",
    "        print(f'{item:10} python file')\n",
    "    else:\n",
    "        print(f'{item:10} unknown file type')\n",
    "        "
   ]
  },
  {
   "cell_type": "code",
   "execution_count": 60,
   "metadata": {},
   "outputs": [
    {
     "name": "stdout",
     "output_type": "stream",
     "text": [
      "JOURNEY BEFORE DESTINATION\n",
      "journey before destination\n",
      "Journey Before Destination\n",
      "Journey before destination\n",
      "jOURNEY bEFORE dESTINATION\n",
      "journey before destination\n",
      "Journey before destination\n"
     ]
    }
   ],
   "source": [
    "name= 'Journey Before Destination'\n",
    "print(name.upper())\n",
    "print(name.lower())\n",
    "print(name.title())\n",
    "print(name.capitalize())\n",
    "print(name.swapcase())\n",
    "print(name.casefold())\n",
    "\n",
    "\n",
    "name = name.capitalize()\n",
    "print(name)\n",
    "      "
   ]
  },
  {
   "cell_type": "code",
   "execution_count": 5,
   "metadata": {},
   "outputs": [
    {
     "name": "stdout",
     "output_type": "stream",
     "text": [
      "4\n",
      "2\n"
     ]
    }
   ],
   "source": [
    "s = 'this is an example string,this is a simple string'\n",
    "print(s.count('is'))\n",
    "print(s.count('this'))"
   ]
  },
  {
   "cell_type": "code",
   "execution_count": 7,
   "metadata": {},
   "outputs": [
    {
     "name": "stdout",
     "output_type": "stream",
     "text": [
      "13\n"
     ]
    }
   ],
   "source": [
    "#total vowels\n",
    "tv= s.count('a') + s.count('e') + s.count('i') + s.count('o') + s.count('u')\n",
    "print(tv)"
   ]
  },
  {
   "cell_type": "code",
   "execution_count": 12,
   "metadata": {},
   "outputs": [
    {
     "data": {
      "text/plain": [
       "4"
      ]
     },
     "execution_count": 12,
     "metadata": {},
     "output_type": "execute_result"
    }
   ],
   "source": [
    "\n",
    "s.find(' ')\n"
   ]
  },
  {
   "cell_type": "code",
   "execution_count": 17,
   "metadata": {},
   "outputs": [
    {
     "data": {
      "text/plain": [
       "28"
      ]
     },
     "execution_count": 17,
     "metadata": {},
     "output_type": "execute_result"
    }
   ],
   "source": [
    "s.find('is', 3)\n",
    "s.find('is', 6)"
   ]
  },
  {
   "cell_type": "code",
   "execution_count": 18,
   "metadata": {},
   "outputs": [
    {
     "data": {
      "text/plain": [
       "'thwas was an example string,thwas was a simple string'"
      ]
     },
     "execution_count": 18,
     "metadata": {},
     "output_type": "execute_result"
    }
   ],
   "source": [
    "s.replace('is', 'was')"
   ]
  },
  {
   "cell_type": "code",
   "execution_count": 19,
   "metadata": {},
   "outputs": [
    {
     "data": {
      "text/plain": [
       "'thwas was an example string,thwas was a simple string'"
      ]
     },
     "execution_count": 19,
     "metadata": {},
     "output_type": "execute_result"
    }
   ],
   "source": [
    "\n",
    "s.replace('is','was')\n"
   ]
  },
  {
   "cell_type": "code",
   "execution_count": 20,
   "metadata": {},
   "outputs": [
    {
     "data": {
      "text/plain": [
       "'this is an example ,this is a simple '"
      ]
     },
     "execution_count": 20,
     "metadata": {},
     "output_type": "execute_result"
    }
   ],
   "source": [
    "s.replace('string','')"
   ]
  },
  {
   "cell_type": "code",
   "execution_count": 23,
   "metadata": {},
   "outputs": [
    {
     "name": "stdout",
     "output_type": "stream",
     "text": [
      "['this', 'is', 'an', 'example', 'string,this', 'is', 'a', 'simple', 'string']"
     ]
    }
   ],
   "source": [
    "s.split()\n",
    "\n"
   ]
  },
  {
   "cell_type": "code",
   "execution_count": 24,
   "metadata": {},
   "outputs": [
    {
     "data": {
      "text/plain": [
       "['this is an example string', 'this is a simple string']"
      ]
     },
     "execution_count": 24,
     "metadata": {},
     "output_type": "execute_result"
    }
   ],
   "source": [
    "s.split(',')"
   ]
  },
  {
   "cell_type": "code",
   "execution_count": 25,
   "metadata": {},
   "outputs": [
    {
     "data": {
      "text/plain": [
       "['thi', ' i', ' an example ', 'tring,thi', ' i', ' a ', 'imple ', 'tring']"
      ]
     },
     "execution_count": 25,
     "metadata": {},
     "output_type": "execute_result"
    }
   ],
   "source": [
    "s.split('s')"
   ]
  },
  {
   "cell_type": "code",
   "execution_count": 27,
   "metadata": {},
   "outputs": [
    {
     "data": {
      "text/plain": [
       "'one, two, three, four, five'"
      ]
     },
     "execution_count": 27,
     "metadata": {},
     "output_type": "execute_result"
    }
   ],
   "source": [
    "words = ['one','two','three','four','five']\n",
    "\n",
    "\", \".join(words)"
   ]
  },
  {
   "cell_type": "code",
   "execution_count": 28,
   "metadata": {},
   "outputs": [
    {
     "name": "stdout",
     "output_type": "stream",
     "text": [
      "    ziad  \n",
      "ziad\n"
     ]
    }
   ],
   "source": [
    "x ='    ziad  '\n",
    "print(x)\n",
    "print(x.strip())"
   ]
  },
  {
   "cell_type": "code",
   "execution_count": 29,
   "metadata": {},
   "outputs": [
    {
     "name": "stdout",
     "output_type": "stream",
     "text": [
      "    ziad \n",
      "\n",
      "   \n",
      "ziad\n"
     ]
    }
   ],
   "source": [
    "x ='    ziad \\n\\n   '\n",
    "print(x)\n",
    "print(x.strip())"
   ]
  },
  {
   "cell_type": "code",
   "execution_count": null,
   "metadata": {},
   "outputs": [],
   "source": []
  }
 ],
 "metadata": {
  "kernelspec": {
   "display_name": "base",
   "language": "python",
   "name": "python3"
  },
  "language_info": {
   "codemirror_mode": {
    "name": "ipython",
    "version": 3
   },
   "file_extension": ".py",
   "mimetype": "text/x-python",
   "name": "python",
   "nbconvert_exporter": "python",
   "pygments_lexer": "ipython3",
   "version": "3.10.8"
  },
  "orig_nbformat": 4
 },
 "nbformat": 4,
 "nbformat_minor": 2
}
