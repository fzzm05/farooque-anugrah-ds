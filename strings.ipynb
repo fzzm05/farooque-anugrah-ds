{
 "cells": [
  {
   "cell_type": "code",
   "execution_count": 13,
   "metadata": {},
   "outputs": [],
   "source": [
    "a = 'this is string' #single quotes\n",
    "b = \"this is another string\" #double quotes\n",
    "c = '''this is a \n",
    "string''' #triple quotes\n",
    "d= b'this is a byte string' #byte string\n",
    "e= u'this is a \\nunicode string' #unnicode string\n",
    "f= r'this is a \\nraw string' #raw string"
   ]
  },
  {
   "cell_type": "code",
   "execution_count": 14,
   "metadata": {},
   "outputs": [
    {
     "name": "stdout",
     "output_type": "stream",
     "text": [
      "this is a \n",
      "unicode string\n",
      "this is a \\nraw string\n",
      "this is another string\n"
     ]
    }
   ],
   "source": [
    "print (e)\n",
    "print(f)\n",
    "print(b)"
   ]
  },
  {
   "cell_type": "code",
   "execution_count": 10,
   "metadata": {},
   "outputs": [
    {
     "name": "stdout",
     "output_type": "stream",
     "text": [
      "C:\\Users\\window-10\\Documents\\farooque_anugrah_ds\\loops.ipynb\n"
     ]
    }
   ],
   "source": [
    "path = r'C:\\Users\\window-10\\Documents\\farooque_anugrah_ds\\loops.ipynb'\n",
    "print (path)"
   ]
  },
  {
   "cell_type": "code",
   "execution_count": 11,
   "metadata": {},
   "outputs": [
    {
     "name": "stdout",
     "output_type": "stream",
     "text": [
      "10\n"
     ]
    }
   ],
   "source": [
    "x =10\n",
    "x = str(x) #converted to string\n",
    "print (x)"
   ]
  },
  {
   "cell_type": "code",
   "execution_count": null,
   "metadata": {},
   "outputs": [],
   "source": []
  }
 ],
 "metadata": {
  "kernelspec": {
   "display_name": "base",
   "language": "python",
   "name": "python3"
  },
  "language_info": {
   "codemirror_mode": {
    "name": "ipython",
    "version": 3
   },
   "file_extension": ".py",
   "mimetype": "text/x-python",
   "name": "python",
   "nbconvert_exporter": "python",
   "pygments_lexer": "ipython3",
   "version": "3.10.8"
  },
  "orig_nbformat": 4
 },
 "nbformat": 4,
 "nbformat_minor": 2
}
