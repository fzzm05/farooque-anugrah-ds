{
 "cells": [
  {
   "cell_type": "code",
   "execution_count": 12,
   "metadata": {},
   "outputs": [
    {
     "name": "stdout",
     "output_type": "stream",
     "text": [
      "no\n"
     ]
    }
   ],
   "source": [
    "x= 9\n",
    "y=8\n",
    "if x>10:\n",
    "    print(\"yahoo\")\n",
    "else:\n",
    "    print(\"no\")"
   ]
  },
  {
   "cell_type": "code",
   "execution_count": 8,
   "metadata": {},
   "outputs": [
    {
     "name": "stdout",
     "output_type": "stream",
     "text": [
      "x is greater than 5 and y is greater than 3\n"
     ]
    }
   ],
   "source": [
    "if x >5:\n",
    "    if y>1:\n",
    "        print(\"x is greater than 5 and y is greater than 3\")"
   ]
  },
  {
   "cell_type": "code",
   "execution_count": 11,
   "metadata": {},
   "outputs": [
    {
     "name": "stdout",
     "output_type": "stream",
     "text": [
      "x is not greater than 5\n"
     ]
    }
   ],
   "source": [
    "if x< 5:\n",
    "    if y>1: \n",
    "        print(\"x and y are greater than 1\")\n",
    "    else:\n",
    "        print(\"x is greater than smth\")\n",
    "else: \n",
    "    print(\"x is not greater than 5\")"
   ]
  },
  {
   "cell_type": "code",
   "execution_count": 18,
   "metadata": {},
   "outputs": [
    {
     "name": "stdout",
     "output_type": "stream",
     "text": [
      "a is an odd number\n"
     ]
    }
   ],
   "source": [
    "a = int(input(\"enter a number\"))\n",
    "if a%2 ==0:\n",
    "    print(\"a is an even number\")\n",
    "else:\n",
    "    print(\"a is an odd number\")"
   ]
  },
  {
   "cell_type": "code",
   "execution_count": 19,
   "metadata": {},
   "outputs": [
    {
     "name": "stdout",
     "output_type": "stream",
     "text": [
      "z is greater than x and y\n"
     ]
    }
   ],
   "source": [
    "x, y, z= 3, 4, 5\n",
    "if x>y and x>z:\n",
    "    print (\"x is greater than y and z\")\n",
    "elif y>x and y>z:\n",
    "    print (\"y is greatere than x and z\")\n",
    "elif z>x and z>y:\n",
    "    print (\"z is greater than x and y\")\n",
    "else:\n",
    "    print (\"x, y and z are equal\")\n",
    "    "
   ]
  },
  {
   "cell_type": "code",
   "execution_count": 24,
   "metadata": {},
   "outputs": [
    {
     "name": "stdout",
     "output_type": "stream",
     "text": [
      "Tnvalid day\n"
     ]
    }
   ],
   "source": [
    "day = input(\"Enter the day of the week: \")\n",
    "match day:\n",
    "    case 'Monday':\n",
    "        print ('Today is Monday')\n",
    "    case 'Tuesday':\n",
    "        print (\"Today is Tuesday\")\n",
    "    case 'Wednesday':\n",
    "        print ('Today is Wednesday')\n",
    "    case _:\n",
    "        print ('Tnvalid day')"
   ]
  },
  {
   "cell_type": "code",
   "execution_count": null,
   "metadata": {},
   "outputs": [],
   "source": []
  },
  {
   "cell_type": "code",
   "execution_count": null,
   "metadata": {},
   "outputs": [],
   "source": []
  }
 ],
 "metadata": {
  "kernelspec": {
   "display_name": "base",
   "language": "python",
   "name": "python3"
  },
  "language_info": {
   "codemirror_mode": {
    "name": "ipython",
    "version": 3
   },
   "file_extension": ".py",
   "mimetype": "text/x-python",
   "name": "python",
   "nbconvert_exporter": "python",
   "pygments_lexer": "ipython3",
   "version": "3.10.8"
  },
  "orig_nbformat": 4
 },
 "nbformat": 4,
 "nbformat_minor": 2
}
