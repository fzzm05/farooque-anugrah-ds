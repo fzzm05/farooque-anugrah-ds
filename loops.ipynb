{
 "cells": [
  {
   "cell_type": "code",
   "execution_count": 4,
   "metadata": {},
   "outputs": [
    {
     "name": "stdout",
     "output_type": "stream",
     "text": [
      "apple\n",
      "bananna\n",
      "mango\n",
      "kiwi\n"
     ]
    }
   ],
   "source": [
    "fruits = ['apple','bananna','mango','kiwi']\n",
    "for fruit in fruits:\n",
    "    print(fruit)"
   ]
  },
  {
   "cell_type": "code",
   "execution_count": 7,
   "metadata": {},
   "outputs": [
    {
     "name": "stdout",
     "output_type": "stream",
     "text": [
      "0, apple\n",
      "1, bananna\n",
      "1, mango\n",
      "1, kiwi\n"
     ]
    }
   ],
   "source": [
    "#WITHOUT using enumertae\n",
    "count=0\n",
    "for item in fruits:\n",
    "    print(count, item, sep=\", \")\n",
    "    count=+1"
   ]
  },
  {
   "cell_type": "code",
   "execution_count": 2,
   "metadata": {},
   "outputs": [
    {
     "name": "stdout",
     "output_type": "stream",
     "text": [
      "(0, 'apple')\n",
      "(1, 'bananna')\n",
      "(2, 'mango')\n",
      "(3, 'kiwi')\n"
     ]
    }
   ],
   "source": [
    "#enumerate\n",
    "for item in enumerate(fruits):\n",
    "    print(item)"
   ]
  },
  {
   "cell_type": "code",
   "execution_count": 8,
   "metadata": {},
   "outputs": [
    {
     "name": "stdout",
     "output_type": "stream",
     "text": [
      "0 => apple\n",
      "1 => bananna\n",
      "2 => mango\n",
      "3 => kiwi\n"
     ]
    }
   ],
   "source": [
    "for idx, val in enumerate(fruits):\n",
    "    print(f'{idx} => {val}')"
   ]
  },
  {
   "cell_type": "code",
   "execution_count": 13,
   "metadata": {},
   "outputs": [],
   "source": [
    "for idx, val in enumerate(fruits,1):\n",
    "    if idx% 2 == 3:\n",
    "        print(val)"
   ]
  },
  {
   "cell_type": "code",
   "execution_count": 5,
   "metadata": {},
   "outputs": [
    {
     "name": "stdout",
     "output_type": "stream",
     "text": [
      "apple\n",
      "bananna\n",
      "mango\n"
     ]
    }
   ],
   "source": [
    "for idx, val in enumerate(fruits):\n",
    "    if idx == 3:\n",
    "        break\n",
    "    print (val)"
   ]
  },
  {
   "cell_type": "code",
   "execution_count": 6,
   "metadata": {},
   "outputs": [
    {
     "name": "stdout",
     "output_type": "stream",
     "text": [
      "1 3 6\n",
      "2 4 7\n",
      "3 5 8\n"
     ]
    }
   ],
   "source": [
    "x=[1,2,3]\n",
    "y=[3,4,5]\n",
    "z=[6,7,8]\n",
    "for i, j, k in zip(x,y,z):\n",
    "    print(i,j,k)\n"
   ]
  },
  {
   "cell_type": "code",
   "execution_count": 7,
   "metadata": {},
   "outputs": [
    {
     "name": "stdout",
     "output_type": "stream",
     "text": [
      "10 13 16 "
     ]
    }
   ],
   "source": [
    "for i,j,k  in zip(x,y,z):\n",
    "    print(i + j + k,end=' ')\n"
   ]
  },
  {
   "cell_type": "code",
   "execution_count": 12,
   "metadata": {},
   "outputs": [
    {
     "name": "stdout",
     "output_type": "stream",
     "text": [
      "1\n",
      "2\n",
      "3\n",
      "loop completed\n"
     ]
    }
   ],
   "source": [
    "for i in x:\n",
    "    print(i)\n",
    "else:\n",
    "    print('loop completed')"
   ]
  },
  {
   "cell_type": "code",
   "execution_count": 15,
   "metadata": {},
   "outputs": [
    {
     "name": "stdout",
     "output_type": "stream",
     "text": [
      "1\n",
      "2\n"
     ]
    }
   ],
   "source": [
    "for i in x:\n",
    "    if  i==3:\n",
    "        break\n",
    "    print(i)\n",
    "else:\n",
    "    print ('loop completed')"
   ]
  },
  {
   "cell_type": "code",
   "execution_count": 18,
   "metadata": {},
   "outputs": [
    {
     "name": "stdout",
     "output_type": "stream",
     "text": [
      "prime\n"
     ]
    }
   ],
   "source": [
    "x=17\n",
    "for i in range (2,x):\n",
    "    if x%i == 0:\n",
    "        print ('not prime')\n",
    "        break\n",
    "else:\n",
    "    print('prime')"
   ]
  },
  {
   "cell_type": "code",
   "execution_count": null,
   "metadata": {},
   "outputs": [],
   "source": []
  }
 ],
 "metadata": {
  "kernelspec": {
   "display_name": "base",
   "language": "python",
   "name": "python3"
  },
  "language_info": {
   "codemirror_mode": {
    "name": "ipython",
    "version": 3
   },
   "file_extension": ".py",
   "mimetype": "text/x-python",
   "name": "python",
   "nbconvert_exporter": "python",
   "pygments_lexer": "ipython3",
   "version": "3.10.8"
  },
  "orig_nbformat": 4
 },
 "nbformat": 4,
 "nbformat_minor": 2
}
