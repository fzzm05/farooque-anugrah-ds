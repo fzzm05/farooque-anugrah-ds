{
 "cells": [
  {
   "cell_type": "code",
   "execution_count": 2,
   "metadata": {},
   "outputs": [],
   "source": [
    "import numpy as np\n"
   ]
  },
  {
   "cell_type": "code",
   "execution_count": 20,
   "metadata": {},
   "outputs": [
    {
     "name": "stdout",
     "output_type": "stream",
     "text": [
      "[2 5 6]\n",
      "(3,)\n"
     ]
    },
    {
     "name": "stderr",
     "output_type": "stream",
     "text": [
      "<>:5: SyntaxWarning: list indices must be integers or slices, not tuple; perhaps you missed a comma?\n",
      "<>:5: SyntaxWarning: list indices must be integers or slices, not tuple; perhaps you missed a comma?\n",
      "C:\\Users\\window-10\\AppData\\Local\\Temp\\ipykernel_216\\1005230642.py:5: SyntaxWarning: list indices must be integers or slices, not tuple; perhaps you missed a comma?\n",
      "  [1, 2, 3]\n",
      "C:\\Users\\window-10\\AppData\\Local\\Temp\\ipykernel_216\\1005230642.py:5: SyntaxWarning: list indices must be integers or slices, not tuple; perhaps you missed a comma?\n",
      "  [1, 2, 3]\n",
      "C:\\Users\\window-10\\AppData\\Local\\Temp\\ipykernel_216\\1005230642.py:5: SyntaxWarning: list indices must be integers or slices, not tuple; perhaps you missed a comma?\n",
      "  [1, 2, 3]\n"
     ]
    },
    {
     "ename": "TypeError",
     "evalue": "list indices must be integers or slices, not tuple",
     "output_type": "error",
     "traceback": [
      "\u001b[1;31m---------------------------------------------------------------------------\u001b[0m",
      "\u001b[1;31mTypeError\u001b[0m                                 Traceback (most recent call last)",
      "Cell \u001b[1;32mIn[20], line 5\u001b[0m\n\u001b[0;32m      2\u001b[0m \u001b[39mprint\u001b[39m(x)\n\u001b[0;32m      3\u001b[0m \u001b[39mprint\u001b[39m(x\u001b[39m.\u001b[39mshape)\n\u001b[0;32m      4\u001b[0m b  \u001b[39m=\u001b[39m np\u001b[39m.\u001b[39marray([\n\u001b[1;32m----> 5\u001b[0m     [\u001b[39m1\u001b[39;49m, \u001b[39m2\u001b[39;49m, \u001b[39m3\u001b[39;49m]\n\u001b[0;32m      6\u001b[0m     [\u001b[39m4\u001b[39;49m, \u001b[39m6\u001b[39;49m, \u001b[39m5\u001b[39;49m]\n\u001b[0;32m      7\u001b[0m ])\n\u001b[0;32m      8\u001b[0m \u001b[39mprint\u001b[39m(b\u001b[39m.\u001b[39mshape)\n",
      "\u001b[1;31mTypeError\u001b[0m: list indices must be integers or slices, not tuple"
     ]
    }
   ],
   "source": [
    "x = np.array([2,5,6])\n",
    "print(x)\n",
    "print(x.shape)\n",
    "b  = np.array([\n",
    "    [1, 2, 3]\n",
    "    [4, 6, 5]\n",
    "])\n",
    "print(b.shape)"
   ]
  },
  {
   "cell_type": "code",
   "execution_count": 18,
   "metadata": {},
   "outputs": [
    {
     "name": "stdout",
     "output_type": "stream",
     "text": [
      "[1.  1.2 1.4 1.6 1.8 2.  2.2 2.4 2.6 2.8 3.  3.2 3.4 3.6 3.8 4.  4.2 4.4\n",
      " 4.6 4.8 5.  5.2 5.4 5.6 5.8 6.  6.2 6.4 6.6 6.8 7.  7.2 7.4 7.6 7.8 8.\n",
      " 8.2 8.4 8.6 8.8 9.  9.2 9.4 9.6 9.8]\n",
      "(45,)\n",
      "[ 1.          1.20454545  1.40909091  1.61363636  1.81818182  2.02272727\n",
      "  2.22727273  2.43181818  2.63636364  2.84090909  3.04545455  3.25\n",
      "  3.45454545  3.65909091  3.86363636  4.06818182  4.27272727  4.47727273\n",
      "  4.68181818  4.88636364  5.09090909  5.29545455  5.5         5.70454545\n",
      "  5.90909091  6.11363636  6.31818182  6.52272727  6.72727273  6.93181818\n",
      "  7.13636364  7.34090909  7.54545455  7.75        7.95454545  8.15909091\n",
      "  8.36363636  8.56818182  8.77272727  8.97727273  9.18181818  9.38636364\n",
      "  9.59090909  9.79545455 10.        ]\n"
     ]
    }
   ],
   "source": [
    "c = np.arange(1,10, .2) #start, end, step\n",
    "print(c)\n",
    "print(c.shape)\n",
    "d = np.linspace(1,10, 45) #start, end, number of elements\n",
    "print(d)"
   ]
  },
  {
   "cell_type": "code",
   "execution_count": 21,
   "metadata": {},
   "outputs": [
    {
     "name": "stdout",
     "output_type": "stream",
     "text": [
      "1\n"
     ]
    }
   ],
   "source": [
    "print(c.ndim)"
   ]
  },
  {
   "cell_type": "code",
   "execution_count": 24,
   "metadata": {},
   "outputs": [
    {
     "name": "stdout",
     "output_type": "stream",
     "text": [
      "[[[1.  1.2 1.4]\n",
      "  [1.6 1.8 2. ]\n",
      "  [2.2 2.4 2.6]\n",
      "  [2.8 3.  3.2]\n",
      "  [3.4 3.6 3.8]]\n",
      "\n",
      " [[4.  4.2 4.4]\n",
      "  [4.6 4.8 5. ]\n",
      "  [5.2 5.4 5.6]\n",
      "  [5.8 6.  6.2]\n",
      "  [6.4 6.6 6.8]]\n",
      "\n",
      " [[7.  7.2 7.4]\n",
      "  [7.6 7.8 8. ]\n",
      "  [8.2 8.4 8.6]\n",
      "  [8.8 9.  9.2]\n",
      "  [9.4 9.6 9.8]]]\n"
     ]
    }
   ],
   "source": [
    "print(c.reshape(3,5,3))"
   ]
  },
  {
   "cell_type": "code",
   "execution_count": 30,
   "metadata": {},
   "outputs": [
    {
     "data": {
      "text/plain": [
       "array([[488, 525, 113]])"
      ]
     },
     "execution_count": 30,
     "metadata": {},
     "output_type": "execute_result"
    }
   ],
   "source": [
    "np.random.randint(1, 1000, (1,3))"
   ]
  },
  {
   "cell_type": "code",
   "execution_count": 40,
   "metadata": {},
   "outputs": [
    {
     "data": {
      "text/plain": [
       "array([[-820, -758, -363]])"
      ]
     },
     "execution_count": 40,
     "metadata": {},
     "output_type": "execute_result"
    }
   ],
   "source": [
    "np.random.randint(-999, 10, (1,3))"
   ]
  },
  {
   "cell_type": "markdown",
   "metadata": {},
   "source": [
    "maths in numpy"
   ]
  },
  {
   "cell_type": "code",
   "execution_count": 42,
   "metadata": {},
   "outputs": [],
   "source": [
    "x = np.array ([\n",
    "    [2,3,4],\n",
    "    [5,6,7]\n",
    "])\n",
    "\n",
    "y= np.array ([\n",
    "    [1,2,3],\n",
    "    [4,7,7]\n",
    "])"
   ]
  },
  {
   "cell_type": "code",
   "execution_count": 43,
   "metadata": {},
   "outputs": [
    {
     "name": "stdout",
     "output_type": "stream",
     "text": [
      "[[ 3  5  7]\n",
      " [ 9 13 16]]\n",
      "[[ 1  1  1]\n",
      " [ 1 -1 -2]]\n",
      "[[ 2  6 12]\n",
      " [20 42 63]]\n",
      "[[2.         1.5        1.33333333]\n",
      " [1.25       0.85714286 0.77777778]]\n",
      "[[       2        9       64]\n",
      " [     625   279936 40353607]]\n",
      "[[0 1 1]\n",
      " [1 6 7]]\n"
     ]
    }
   ],
   "source": [
    "print(x+y)\n",
    "print(x-y)\n",
    "print(x*y)\n",
    "print(x/y)\n",
    "print(x ** y)\n",
    "print(x % y)"
   ]
  },
  {
   "cell_type": "code",
   "execution_count": 45,
   "metadata": {},
   "outputs": [
    {
     "name": "stdout",
     "output_type": "stream",
     "text": [
      "[[ 4  6  8]\n",
      " [10 12 14]]\n",
      "[[1.  1.5 2. ]\n",
      " [2.5 3.  3.5]]\n",
      "[[ 4  9 16]\n",
      " [25 36 49]]\n",
      "[[0 1 0]\n",
      " [1 0 1]]\n"
     ]
    }
   ],
   "source": [
    "print(x *2)\n",
    "print(x /2)\n",
    "print(x **2)\n",
    "print(x % 2)"
   ]
  },
  {
   "cell_type": "code",
   "execution_count": 51,
   "metadata": {},
   "outputs": [
    {
     "name": "stdout",
     "output_type": "stream",
     "text": [
      "[[ 20  65]\n",
      " [ 38 125]]\n",
      "[[ 20  65]\n",
      " [ 38 125]]\n",
      "[[ 20  65]\n",
      " [ 38 125]]\n"
     ]
    }
   ],
   "source": [
    "#matrix multiplication\n",
    "print(x.dot(y.T))\n",
    "print(np.matmul(x, y.T))\n",
    "print(x @ y.T)"
   ]
  },
  {
   "cell_type": "code",
   "execution_count": 52,
   "metadata": {},
   "outputs": [
    {
     "name": "stdout",
     "output_type": "stream",
     "text": [
      "27\n",
      "[ 7  9 11]\n",
      "[ 9 18]\n",
      "4.5\n",
      "1.707825127659933\n",
      "2\n",
      "7\n",
      "5\n",
      "0\n"
     ]
    }
   ],
   "source": [
    "# statistical functions\n",
    "print(x.sum())\n",
    "print(x.sum(axis=0))\n",
    "print(x.sum(axis=1))\n",
    "print(x.mean())\n",
    "print(x.std())\n",
    "print(x.min())\n",
    "print(x.max())\n",
    "print(x.argmax())\n",
    "print(x.argmin())"
   ]
  },
  {
   "cell_type": "code",
   "execution_count": null,
   "metadata": {},
   "outputs": [],
   "source": [
    " "
   ]
  }
 ],
 "metadata": {
  "kernelspec": {
   "display_name": "base",
   "language": "python",
   "name": "python3"
  },
  "language_info": {
   "codemirror_mode": {
    "name": "ipython",
    "version": 3
   },
   "file_extension": ".py",
   "mimetype": "text/x-python",
   "name": "python",
   "nbconvert_exporter": "python",
   "pygments_lexer": "ipython3",
   "version": "3.10.8"
  },
  "orig_nbformat": 4
 },
 "nbformat": 4,
 "nbformat_minor": 2
}
