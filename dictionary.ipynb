{
 "cells": [
  {
   "attachments": {},
   "cell_type": "markdown",
   "metadata": {},
   "source": [
    "- ### DICTIONARY\n",
    "    - ordered\n",
    "    - mutable\n",
    "    - heterogenous\n",
    "    - key value pair\n",
    "        - keys are immutable and unique\n",
    "        - value can be immutable or mutable and can be duplicated and have any type\n",
    "    - unindexed \n",
    "    - represented by ` { } `\n",
    "    - dict() that can take key value pair as argument\n",
    "    "
   ]
  },
  {
   "attachments": {},
   "cell_type": "markdown",
   "metadata": {},
   "source": [
    "- ### creating\n"
   ]
  },
  {
   "cell_type": "code",
   "execution_count": 2,
   "metadata": {},
   "outputs": [],
   "source": [
    "fruits = {\n",
    "        \"apple\" : 2,\n",
    "        \"banana\" : 3,\n",
    "        \"orange\" : 5\n",
    "}"
   ]
  },
  {
   "cell_type": "code",
   "execution_count": 3,
   "metadata": {},
   "outputs": [],
   "source": [
    "grocery = {\n",
    "    'fruits' : ['apple', 'banana', 'orange', 'grape'],\n",
    "    'vegetable': ['carrot', 'lettuce', 'onion'],\n",
    "    'meat' : None\n",
    "}"
   ]
  },
  {
   "cell_type": "code",
   "execution_count": 5,
   "metadata": {},
   "outputs": [],
   "source": [
    "reports = {\n",
    "    'rajesh' : {\n",
    "        'English' : 90,\n",
    "        'Math' : 80,\n",
    "        'Science' : 70\n",
    "    },\n",
    "    'suresh' : {\n",
    "        'English' : 80,\n",
    "        'Math' : 70,\n",
    "        'Science' : 60\n",
    "    }\n",
    "}"
   ]
  },
  {
   "cell_type": "code",
   "execution_count": 6,
   "metadata": {},
   "outputs": [
    {
     "name": "stdout",
     "output_type": "stream",
     "text": [
      "{'apple': 2, 'banana': 3, 'orange': 5}\n",
      "{'fruits': ['apple', 'banana', 'orange', 'grape'], 'vegetable': ['carrot', 'lettuce', 'onion'], 'meat': None}\n",
      "{'rajesh': {'English': 90, 'Math': 80, 'Science': 70}, 'suresh': {'English': 80, 'Math': 70, 'Science': 60}}\n"
     ]
    }
   ],
   "source": [
    "print(fruits)\n",
    "print(grocery)\n",
    "print(reports)"
   ]
  },
  {
   "cell_type": "code",
   "execution_count": 7,
   "metadata": {},
   "outputs": [],
   "source": [
    "from pprint import pp"
   ]
  },
  {
   "cell_type": "code",
   "execution_count": 8,
   "metadata": {},
   "outputs": [
    {
     "name": "stdout",
     "output_type": "stream",
     "text": [
      "{'apple': 2, 'banana': 3, 'orange': 5}\n"
     ]
    }
   ],
   "source": [
    "pp(fruits)"
   ]
  },
  {
   "cell_type": "code",
   "execution_count": 9,
   "metadata": {},
   "outputs": [
    {
     "name": "stdout",
     "output_type": "stream",
     "text": [
      "{'fruits': ['apple', 'banana', 'orange', 'grape'],\n",
      " 'vegetable': ['carrot', 'lettuce', 'onion'],\n",
      " 'meat': None}\n"
     ]
    }
   ],
   "source": [
    "pp(grocery)"
   ]
  },
  {
   "cell_type": "code",
   "execution_count": 10,
   "metadata": {},
   "outputs": [
    {
     "name": "stdout",
     "output_type": "stream",
     "text": [
      "{'rajesh': {'English': 90, 'Math': 80, 'Science': 70},\n",
      " 'suresh': {'English': 80, 'Math': 70, 'Science': 60}}\n"
     ]
    }
   ],
   "source": [
    "pp(reports)"
   ]
  },
  {
   "attachments": {},
   "cell_type": "markdown",
   "metadata": {},
   "source": [
    "- updating\n",
    "- adding\n",
    "- deleting"
   ]
  },
  {
   "cell_type": "code",
   "execution_count": 11,
   "metadata": {},
   "outputs": [
    {
     "data": {
      "text/plain": [
       "{'apple': 2, 'banana': 3, 'orange': 5}"
      ]
     },
     "execution_count": 11,
     "metadata": {},
     "output_type": "execute_result"
    }
   ],
   "source": [
    "fruits"
   ]
  },
  {
   "cell_type": "code",
   "execution_count": 15,
   "metadata": {},
   "outputs": [
    {
     "data": {
      "text/plain": [
       "2"
      ]
     },
     "execution_count": 15,
     "metadata": {},
     "output_type": "execute_result"
    }
   ],
   "source": [
    "fruits['apple'] #retrieve value from dictionary"
   ]
  },
  {
   "cell_type": "code",
   "execution_count": 16,
   "metadata": {},
   "outputs": [
    {
     "name": "stdout",
     "output_type": "stream",
     "text": [
      "{'apple': 10, 'banana': 3, 'orange': 5}\n"
     ]
    }
   ],
   "source": [
    "fruits['apple'] = 10 #updates value in dictionary\n",
    "pp(fruits)"
   ]
  },
  {
   "cell_type": "code",
   "execution_count": 19,
   "metadata": {},
   "outputs": [
    {
     "name": "stdout",
     "output_type": "stream",
     "text": [
      "{'apple': 10, 'banana': 3, 'orange': 5, 'mango': 25}\n"
     ]
    }
   ],
   "source": [
    "fruits['mango'] = 25 #add new key value pair in dictionary\n",
    "pp(fruits)"
   ]
  },
  {
   "cell_type": "code",
   "execution_count": 20,
   "metadata": {},
   "outputs": [],
   "source": [
    "grocery['spices'] = ['cumin', 'coriander', 'turmeric'] "
   ]
  },
  {
   "cell_type": "code",
   "execution_count": 31,
   "metadata": {},
   "outputs": [],
   "source": [
    "grocery['fruits'].append('mango') # add new value in list"
   ]
  },
  {
   "cell_type": "code",
   "execution_count": 27,
   "metadata": {},
   "outputs": [
    {
     "name": "stdout",
     "output_type": "stream",
     "text": [
      "{'fruits': ['apple', 'banana', 'orange', 'grape', 'mango', 'mango'],\n",
      " 'vegetable': ['carrot', 'lettuce', 'onion'],\n",
      " 'meat': None,\n",
      " 'spices': ['cumin', 'coriander', 'turmeric'],\n",
      " 25: 2}\n"
     ]
    }
   ],
   "source": [
    "pp(grocery)"
   ]
  },
  {
   "cell_type": "code",
   "execution_count": 32,
   "metadata": {},
   "outputs": [],
   "source": [
    "grocery['fruits'].remove('mango')"
   ]
  },
  {
   "cell_type": "code",
   "execution_count": 33,
   "metadata": {},
   "outputs": [
    {
     "name": "stdout",
     "output_type": "stream",
     "text": [
      "{'apple': 10, 'banana': 3, 'orange': 5, 'mango': 25}\n"
     ]
    }
   ],
   "source": [
    "pp(fruits)"
   ]
  },
  {
   "cell_type": "code",
   "execution_count": 34,
   "metadata": {},
   "outputs": [
    {
     "name": "stdout",
     "output_type": "stream",
     "text": [
      "{'rajesh': {'English': 90, 'Math': 80, 'Science': 70, 'evs': 99, 'Evs': 99},\n",
      " 'suresh': {'English': 80, 'Math': 70, 'Science': 60}}\n"
     ]
    }
   ],
   "source": [
    "reports['rajesh']['Evs'] = 99\n",
    "pp(reports)"
   ]
  },
  {
   "cell_type": "code",
   "execution_count": 35,
   "metadata": {},
   "outputs": [
    {
     "data": {
      "text/plain": [
       "3"
      ]
     },
     "execution_count": 35,
     "metadata": {},
     "output_type": "execute_result"
    }
   ],
   "source": [
    "fruits.pop('banana') #remove key value pair from dictionary"
   ]
  },
  {
   "cell_type": "code",
   "execution_count": 36,
   "metadata": {},
   "outputs": [
    {
     "name": "stdout",
     "output_type": "stream",
     "text": [
      "{'apple': 10, 'orange': 5, 'mango': 25}\n"
     ]
    }
   ],
   "source": [
    "pp(fruits)"
   ]
  },
  {
   "cell_type": "code",
   "execution_count": 38,
   "metadata": {},
   "outputs": [
    {
     "data": {
      "text/plain": [
       "{'English': 90, 'Math': 80, 'Science': 70, 'evs': 99, 'Evs': 99}"
      ]
     },
     "execution_count": 38,
     "metadata": {},
     "output_type": "execute_result"
    }
   ],
   "source": [
    "reports.pop('rajesh') #remove key value pair from dictionary"
   ]
  },
  {
   "cell_type": "code",
   "execution_count": 39,
   "metadata": {},
   "outputs": [],
   "source": [
    "grocery['vegetable'].remove('onion') #remove value from list"
   ]
  },
  {
   "cell_type": "code",
   "execution_count": 41,
   "metadata": {},
   "outputs": [
    {
     "data": {
      "text/plain": [
       "dict_keys(['apple', 'orange', 'mango'])"
      ]
     },
     "execution_count": 41,
     "metadata": {},
     "output_type": "execute_result"
    }
   ],
   "source": [
    "fruits.keys() #get all values from dictionary"
   ]
  },
  {
   "cell_type": "code",
   "execution_count": 43,
   "metadata": {},
   "outputs": [
    {
     "data": {
      "text/plain": [
       "dict_items([('apple', 10), ('orange', 5), ('mango', 25)])"
      ]
     },
     "execution_count": 43,
     "metadata": {},
     "output_type": "execute_result"
    }
   ],
   "source": [
    "fruits.items() #get all key value pairs from dictionary"
   ]
  },
  {
   "cell_type": "code",
   "execution_count": 40,
   "metadata": {},
   "outputs": [],
   "source": [
    "#traversal\n"
   ]
  },
  {
   "cell_type": "code",
   "execution_count": 44,
   "metadata": {},
   "outputs": [
    {
     "name": "stdout",
     "output_type": "stream",
     "text": [
      "apple 10\n",
      "orange 5\n",
      "mango 25\n"
     ]
    }
   ],
   "source": [
    "for k, v in fruits.items():\n",
    "    print(k,v)"
   ]
  },
  {
   "cell_type": "code",
   "execution_count": 45,
   "metadata": {},
   "outputs": [
    {
     "data": {
      "text/plain": [
       "80"
      ]
     },
     "execution_count": 45,
     "metadata": {},
     "output_type": "execute_result"
    }
   ],
   "source": [
    "reports['suresh']['English']"
   ]
  },
  {
   "cell_type": "code",
   "execution_count": 47,
   "metadata": {},
   "outputs": [],
   "source": [
    "reports.get('ramesh')"
   ]
  },
  {
   "cell_type": "code",
   "execution_count": 49,
   "metadata": {},
   "outputs": [
    {
     "data": {
      "text/plain": [
       "'yeh student kabhi aaya hi nhi🤯'"
      ]
     },
     "execution_count": 49,
     "metadata": {},
     "output_type": "execute_result"
    }
   ],
   "source": [
    "reports.get('ramesh', 'yeh student kabhi aaya hi nhi🤯')"
   ]
  },
  {
   "cell_type": "code",
   "execution_count": 50,
   "metadata": {},
   "outputs": [
    {
     "name": "stdout",
     "output_type": "stream",
     "text": [
      "{'suresh': {'English': 80, 'Math': 70, 'Science': 60},\n",
      " 'sunita': {'English': 90, 'Math': 80, 'Science': 70}}\n"
     ]
    }
   ],
   "source": [
    "reports['sunita'] = {\n",
    "    'English' : 90,\n",
    "    'Math' : 80,\n",
    "    'Science' : 70\n",
    "}\n",
    "\n",
    "pp(reports)"
   ]
  },
  {
   "cell_type": "code",
   "execution_count": 55,
   "metadata": {},
   "outputs": [
    {
     "name": "stdout",
     "output_type": "stream",
     "text": [
      "suresh\n",
      "80 in English\n",
      "70 in Math\n",
      "60 in Science\n",
      "------------------------------\n",
      "sunita\n",
      "90 in English\n",
      "80 in Math\n",
      "70 in Science\n",
      "------------------------------\n"
     ]
    }
   ],
   "source": [
    "for student, details in reports.items():\n",
    "    print(student)\n",
    "    for subject, marks in details.items():\n",
    "        print(f'{marks} in {subject}')\n",
    "    print('---'*10)"
   ]
  },
  {
   "attachments": {},
   "cell_type": "markdown",
   "metadata": {},
   "source": [
    "- # create a dictionary of 5 employee with details\n",
    "    - name : str\n",
    "    - department : str\n",
    "    - salary : int\n",
    "    - skills : list\n",
    "    - projects : dict\n",
    "        - project_name : str\n",
    "        - project_duration : int\n",
    "        - project_technologies : list"
   ]
  },
  {
   "cell_type": "code",
   "execution_count": null,
   "metadata": {},
   "outputs": [],
   "source": [
    "employee_details = {{\n",
    "        'e1' : {\n",
    "            'name' : \"ram\"\n",
    "            'department' : 'electrical'\n",
    "            'salary' : 10000\n",
    "            'skills' : ['communication', 'management']\n",
    "            'projects' : {\n",
    "                'project_name' : 'HRMS'\n",
    "                'project_duration' : 6,\n",
    "                'project_technology: ['excel', 'power bi', 'powerpoint']\n",
    "            },\n",
    "        }\n",
    "   },\n",
    "                    }\n",
    "   {\n",
    "        'e2' : {\n",
    "            'name' : \"shyam\"\n",
    "            'department' : 'mechanical'\n",
    "            'salary' : 8500\n",
    "            'skills' : ['creative', 'sales']\n",
    "            'projects' : {\n",
    "                'project_name' : 'Twin Tower'\n",
    "                'project_duration' : 8,\n",
    "                'project_technology: ['autoCAD', 'excel', 'cmd']\n",
    "            },\n",
    "        }\n",
    "   },\n",
    "{\n",
    "        'e3' : {\n",
    "            'name' : \"rachit\"\n",
    "            'department' : 'computer science'\n",
    "            'salary' : 12000\n",
    "            'skills' : ['coding', 'logic thinking']\n",
    "            'projects' : {\n",
    "                'project_name' : 'software development'\n",
    "                'project_duration' : 9,\n",
    "                'project_technology: ['vs code', 'blockchain', 'powerpoint']\n",
    "            },\n",
    "        }\n",
    "   },{\n",
    "        'e4' : {\n",
    "            'name' : \"rahul\"\n",
    "            'department' : 'industrial'\n",
    "            'salary' : 8900\n",
    "            'skills' : ['hardwerk', 'engineering']\n",
    "            'projects' : {\n",
    "                'project_name' : 'HRMS'\n",
    "                'project_duration' : 11,\n",
    "                'project_technology: ['macvhinery', 'factory', 'powerpoint']\n",
    "            },\n",
    "        }\n",
    "   },{\n",
    "        'e5' : {\n",
    "            'name' : \"gita\"\n",
    "            'department' : 'textile'\n",
    "            'salary' : 5000\n",
    "            'skills' : ['color recognition', 'texting speed']\n",
    "            'projects' : {\n",
    "                'project_name' : 'HRMS'\n",
    "                'project_duration' : 10,\n",
    "                'project_technology: ['whatsapp', 'customer support', 'powerpoint']\n",
    "            },\n",
    "        }\n",
    "   },\n",
    "}"
   ]
  }
 ],
 "metadata": {
  "kernelspec": {
   "display_name": "base",
   "language": "python",
   "name": "python3"
  },
  "language_info": {
   "codemirror_mode": {
    "name": "ipython",
    "version": 3
   },
   "file_extension": ".py",
   "mimetype": "text/x-python",
   "name": "python",
   "nbconvert_exporter": "python",
   "pygments_lexer": "ipython3",
   "version": "3.10.8"
  },
  "orig_nbformat": 4
 },
 "nbformat": 4,
 "nbformat_minor": 2
}
